{
 "cells": [
  {
   "cell_type": "markdown",
   "id": "809fd785",
   "metadata": {},
   "source": [
    "Exercise 2: Create markdown cell with title of the notebook"
   ]
  },
  {
   "cell_type": "markdown",
   "id": "45ab1cc1",
   "metadata": {},
   "source": [
    "# Data Science Tools and Ecosystem"
   ]
  },
  {
   "cell_type": "markdown",
   "id": "e9b87fec",
   "metadata": {},
   "source": [
    "*Exercise 3 - Create a markdown cell for an introduction*"
   ]
  },
  {
   "cell_type": "markdown",
   "id": "ba2c2f73",
   "metadata": {},
   "source": [
    "In the following notebook, the Tools and Ecosystem for Data Science are summarized"
   ]
  },
  {
   "cell_type": "markdown",
   "id": "8852bba8",
   "metadata": {},
   "source": [
    "**Objectives:**\n",
    "- List popular languages for Data Science\n",
    "- List commonly used Data Science libraries used \n",
    "- List some Data Science Tools\n",
    "- Understand Arithmetic operations in Python"
   ]
  },
  {
   "cell_type": "markdown",
   "id": "4d69b7a1",
   "metadata": {},
   "source": [
    "*Exercise 4 - Create a markdown cell to list data science languages*"
   ]
  },
  {
   "cell_type": "markdown",
   "id": "859ff078",
   "metadata": {},
   "source": [
    "Some of the popular languages that Data Scientists use are:\n",
    "1. Python\n",
    "2. R\n",
    "3. SQL\n",
    "4. Java\n",
    "5. Julia\n",
    "6. Scala"
   ]
  },
  {
   "cell_type": "markdown",
   "id": "6db2669f",
   "metadata": {},
   "source": [
    "*Exercise 5 - Create a markdown cell to list data science libraries*"
   ]
  },
  {
   "cell_type": "markdown",
   "id": "98ac8978",
   "metadata": {},
   "source": [
    "Some of the commonly used libraries used by Data Scientists include:\n",
    "1. TensorFlow\n",
    "2. Pandas\n",
    "3. NumPy\n",
    "4. Matplotlib\n",
    "5. SciPy\n",
    "6. Keras"
   ]
  },
  {
   "cell_type": "markdown",
   "id": "72cfbdfe",
   "metadata": {},
   "source": [
    "*Exercise 6 - Create a markdown cell with a table of Data Science tools*"
   ]
  },
  {
   "cell_type": "markdown",
   "id": "8950e0b5",
   "metadata": {},
   "source": [
    "| Data Science Tools |\n",
    "| ----- |\n",
    "| Jupyter |\n",
    "| Apache Zeppelin |\n",
    "| R Studio |"
   ]
  },
  {
   "cell_type": "markdown",
   "id": "73da02b1",
   "metadata": {},
   "source": [
    "*Exercise 7 - Create a markdown cell introducing arithmetic expression examples*"
   ]
  },
  {
   "cell_type": "markdown",
   "id": "a70132ca",
   "metadata": {},
   "source": [
    "### Below are a few examples of evaluating arithmetic expressions in Python"
   ]
  },
  {
   "cell_type": "code",
   "execution_count": 7,
   "id": "251d8c4e",
   "metadata": {},
   "outputs": [
    {
     "name": "stdout",
     "output_type": "stream",
     "text": [
      "Num1 =9, Num 2=3\n",
      "Addition: 12\n",
      "Subtraction: 6\n",
      "Multiplication: 27\n",
      "Division: 3.0\n",
      "Modulus: 0\n",
      "Power: 729\n"
     ]
    }
   ],
   "source": [
    "# Addition '+', Subtraction '-'\n",
    "# Multiplication '*', Division '/'\n",
    "# Modulus(remainder) '%', Power '**'\n",
    "print(\"Num1 = 9, Num2 = 3\")\n",
    "print(\"Addition: \"+ str(9+3))\n",
    "print(\"Subtraction: \"+ str(9-3))\n",
    "print(\"Multiplication: \"+ str(9*3))\n",
    "print(\"Division: \"+ str(9/3))\n",
    "print(\"Modulus: \"+ str(9%3))\n",
    "print(\"Power: \"+ str(9**3))"
   ]
  },
  {
   "cell_type": "markdown",
   "id": "bb12b80a",
   "metadata": {},
   "source": [
    "*Exercise 8 - Create a code cell to multiply and add numbers*"
   ]
  },
  {
   "cell_type": "code",
   "execution_count": 15,
   "id": "e821e4cf",
   "metadata": {},
   "outputs": [
    {
     "name": "stdout",
     "output_type": "stream",
     "text": [
      "17\n"
     ]
    }
   ],
   "source": [
    "#This is a simple arithmetic expression to mutiply then add integers\n",
    "print((3*4)+5)"
   ]
  },
  {
   "cell_type": "markdown",
   "id": "227e6266",
   "metadata": {},
   "source": [
    "*Exercise 9 - Create a code cell to convert minutes to hours*"
   ]
  },
  {
   "cell_type": "code",
   "execution_count": 13,
   "id": "dd6c83e2",
   "metadata": {},
   "outputs": [
    {
     "name": "stdout",
     "output_type": "stream",
     "text": [
      "Minutes= 200 \n",
      "Hours = 3.3333333333333335\n"
     ]
    }
   ],
   "source": [
    "# This will vonvert 200 minutes to hours by dividing by 60\n",
    "print(\"Minutes= 200 \")\n",
    "print(\"Hours = \" +str(200/60))"
   ]
  },
  {
   "cell_type": "markdown",
   "id": "afc11fbd",
   "metadata": {},
   "source": [
    "*Exercise 10 - Insert a markdown cell to list Objectives*"
   ]
  },
  {
   "cell_type": "markdown",
   "id": "91568bba",
   "metadata": {},
   "source": [
    "For this exercise we had to insert a mardown cell below the introduction cell created in exercise 3, mentioning the objectives in bold font, followed by an unordered list of items. "
   ]
  },
  {
   "cell_type": "markdown",
   "id": "3ce2fbd5",
   "metadata": {},
   "source": [
    "*Exercise 11 - Create a markdown cell to indicate the Author's name*"
   ]
  },
  {
   "cell_type": "markdown",
   "id": "530db286",
   "metadata": {},
   "source": [
    "## Author\n",
    "Roshan Hajra"
   ]
  }
 ],
 "metadata": {
  "kernelspec": {
   "display_name": "Python 3 (ipykernel)",
   "language": "python",
   "name": "python3"
  },
  "language_info": {
   "codemirror_mode": {
    "name": "ipython",
    "version": 3
   },
   "file_extension": ".py",
   "mimetype": "text/x-python",
   "name": "python",
   "nbconvert_exporter": "python",
   "pygments_lexer": "ipython3",
   "version": "3.11.4"
  }
 },
 "nbformat": 4,
 "nbformat_minor": 5
}
